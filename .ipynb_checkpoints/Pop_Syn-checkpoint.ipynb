{
 "cells": [
  {
   "cell_type": "code",
   "execution_count": 1,
   "metadata": {
    "collapsed": false
   },
   "outputs": [
    {
     "data": {
      "text/plain": [
       "{u'All categories: Sex': 56075912, u'Females': 28502536, u'Males': 27573376}"
      ]
     },
     "execution_count": 1,
     "metadata": {},
     "output_type": "execute_result"
    }
   ],
   "source": [
    "#! /usr/bin/env python\n",
    "\n",
    "import json\n",
    "import requests\n",
    "\n",
    "def process(obj, ds):\n",
    "\tdata = {}\n",
    "\tvalues  =  obj[ds]['value']\n",
    "\tindex = obj[ds]['dimension'][obj[ds]['dimension']['id'][1]]['category']['index']\n",
    "\tlabels = obj[ds]['dimension'][obj[ds]['dimension']['id'][1]]['category']['label']\n",
    "\tfor l in labels:\n",
    "\t\tnum = index[l]\n",
    "\t\tcount = values[str(num)]\n",
    "\t\tdata[labels[l]] = count\n",
    "\treturn data\n",
    "\n",
    "\n",
    "def getdata(dataset, geog_code):\n",
    "\tbaseurl = \"http://data.ons.gov.uk/ons/api/data/dataset/\"\n",
    "\tpayload = {'apikey': apikey, 'context': 'Census', 'geog' : '2011WARDH', 'dm/2011WARDH' : geog_code, 'totals' : 'false', 'jsontype' : 'json-stat' }\n",
    "\tr = requests.get(baseurl+\"/\"+dataset+\".json\", params=payload)\n",
    "\tobj = json.loads(r.text)\n",
    "\treturn obj\n",
    "\t\n",
    "\n",
    "apikey = \"WuhH1ZVCqz\"\n",
    "\n",
    "dataset = \"QS104EW\" # Gender Split\n",
    "geog_code = \"K04000001\" #England & Wales\n",
    "\n",
    "jsonstat = getdata(dataset, geog_code)\n",
    "process(jsonstat, dataset)"
   ]
  },
  {
   "cell_type": "code",
   "execution_count": null,
   "metadata": {
    "collapsed": true
   },
   "outputs": [],
   "source": []
  }
 ],
 "metadata": {
  "kernelspec": {
   "display_name": "Python 2",
   "language": "python",
   "name": "python2"
  },
  "language_info": {
   "codemirror_mode": {
    "name": "ipython",
    "version": 2
   },
   "file_extension": ".py",
   "mimetype": "text/x-python",
   "name": "python",
   "nbconvert_exporter": "python",
   "pygments_lexer": "ipython2",
   "version": "2.7.11"
  }
 },
 "nbformat": 4,
 "nbformat_minor": 0
}
