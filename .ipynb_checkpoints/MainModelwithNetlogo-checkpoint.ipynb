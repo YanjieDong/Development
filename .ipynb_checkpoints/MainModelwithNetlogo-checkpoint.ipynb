{
 "cells": [
  {
   "cell_type": "code",
   "execution_count": 34,
   "metadata": {
    "collapsed": true
   },
   "outputs": [],
   "source": [
    "import matplotlib.pyplot as plt\n",
    "\n",
    "from py4j.java_gateway import JavaGateway"
   ]
  },
  {
   "cell_type": "code",
   "execution_count": 35,
   "metadata": {
    "collapsed": true
   },
   "outputs": [],
   "source": [
    "%matplotlib inline"
   ]
  },
  {
   "cell_type": "markdown",
   "metadata": {},
   "source": [
    "# set up connection"
   ]
  },
  {
   "cell_type": "code",
   "execution_count": 36,
   "metadata": {
    "collapsed": true
   },
   "outputs": [],
   "source": [
    "gw = JavaGateway() # New gateway connection\n",
    "bridge = gw.entry_point"
   ]
  },
  {
   "cell_type": "markdown",
   "metadata": {},
   "source": [
    "# load netlogo model"
   ]
  },
  {
   "cell_type": "code",
   "execution_count": 37,
   "metadata": {
    "collapsed": true
   },
   "outputs": [],
   "source": [
    "# Path to the model:\n",
    "models_path = \"D:/Work/PhD/Github/NetLogoModel/\"\n",
    "model_name = \"PhD_InitialModelV2.nlogo\""
   ]
  },
  {
   "cell_type": "code",
   "execution_count": 38,
   "metadata": {
    "collapsed": true
   },
   "outputs": [],
   "source": [
    "modelLocation = models_path + model_name"
   ]
  },
  {
   "cell_type": "code",
   "execution_count": 41,
   "metadata": {
    "collapsed": false
   },
   "outputs": [
    {
     "name": "stderr",
     "output_type": "stream",
     "text": [
      "ERROR:py4j.java_gateway:Error while sending or receiving.\n",
      "Traceback (most recent call last):\n",
      "  File \"C:\\Users\\Yanjie\\Anaconda\\lib\\site-packages\\py4j\\java_gateway.py\", line 761, in send_command\n",
      "    self.socket.sendall(command.encode(\"utf-8\"))\n",
      "  File \"C:\\Users\\Yanjie\\Anaconda\\lib\\socket.py\", line 228, in meth\n",
      "    return getattr(self._sock,name)(*args)\n",
      "error: [Errno 10054] An existing connection was forcibly closed by the remote host\n"
     ]
    }
   ],
   "source": [
    "bridge.openModel(modelLocation)"
   ]
  },
  {
   "cell_type": "markdown",
   "metadata": {},
   "source": [
    "# Run one iteration of the model, one command at a time:"
   ]
  },
  {
   "cell_type": "code",
   "execution_count": 43,
   "metadata": {
    "collapsed": false
   },
   "outputs": [
    {
     "ename": "Py4JJavaError",
     "evalue": "An error occurred while calling t.command.\n: Nothing named REPREAT has been defined at position 33 in \r\n\tat org.nlogo.compiler.CompilerExceptionThrowers$.exception(CompilerExceptionThrowers.scala:26)\r\n\tat org.nlogo.compiler.IdentifierParser.org$nlogo$compiler$IdentifierParser$$getAgentVariableReporter(IdentifierParser.scala:107)\r\n\tat org.nlogo.compiler.IdentifierParser$$anonfun$processToken2$2.apply(IdentifierParser.scala:75)\r\n\tat org.nlogo.compiler.IdentifierParser$$anonfun$processToken2$2.apply(IdentifierParser.scala:68)\r\n\tat scala.Option.getOrElse(Option.scala:108)\r\n\tat org.nlogo.compiler.IdentifierParser.processToken2(IdentifierParser.scala:68)\r\n\tat org.nlogo.compiler.IdentifierParser.processToken$1(IdentifierParser.scala:31)\r\n\tat org.nlogo.compiler.IdentifierParser$$anonfun$process$1.apply(IdentifierParser.scala:34)\r\n\tat org.nlogo.compiler.IdentifierParser$$anonfun$process$1.apply(IdentifierParser.scala:34)\r\n\tat scala.collection.Iterator$$anon$19.next(Iterator.scala:401)\r\n\tat scala.collection.Iterator$class.toStream(Iterator.scala:1181)\r\n\tat scala.collection.Iterator$$anon$19.toStream(Iterator.scala:399)\r\n\tat scala.collection.Iterator$$anonfun$toStream$1.apply(Iterator.scala:1181)\r\n\tat scala.collection.Iterator$$anonfun$toStream$1.apply(Iterator.scala:1181)\r\n\tat scala.collection.immutable.Stream$Cons.tail(Stream.scala:1060)\r\n\tat scala.collection.immutable.Stream$Cons.tail(Stream.scala:1052)\r\n\tat scala.collection.immutable.StreamIterator$$anonfun$next$1.apply(Stream.scala:952)\r\n\tat scala.collection.immutable.StreamIterator$$anonfun$next$1.apply(Stream.scala:952)\r\n\tat scala.collection.immutable.StreamIterator$LazyCell.v(Stream.scala:941)\r\n\tat scala.collection.immutable.StreamIterator.hasNext(Stream.scala:946)\r\n\tat scala.collection.Iterator$class.isEmpty(Iterator.scala:329)\r\n\tat scala.collection.immutable.StreamIterator.isEmpty(Stream.scala:933)\r\n\tat scala.collection.immutable.StreamIterator.next(Stream.scala:948)\r\n\tat scala.collection.Iterator$$anon$2.next(Iterator.scala:898)\r\n\tat scala.collection.Iterator$$anon$2.head(Iterator.scala:885)\r\n\tat org.nlogo.compiler.ExpressionParser.parse(ExpressionParser.scala:54)\r\n\tat org.nlogo.compiler.CompilerMain$$anonfun$compile$1.apply(CompilerMain.scala:34)\r\n\tat org.nlogo.compiler.CompilerMain$$anonfun$compile$1.apply(CompilerMain.scala:29)\r\n\tat scala.collection.Iterator$class.foreach(Iterator.scala:772)\r\n\tat scala.collection.JavaConversions$JIteratorWrapper.foreach(JavaConversions.scala:573)\r\n\tat scala.collection.IterableLike$class.foreach(IterableLike.scala:73)\r\n\tat scala.collection.JavaConversions$JCollectionWrapper.foreach(JavaConversions.scala:592)\r\n\tat org.nlogo.compiler.CompilerMain$.compile(CompilerMain.scala:29)\r\n\tat org.nlogo.compiler.Compiler$.compileMoreCode(Compiler.scala:34)\r\n\tat org.nlogo.workspace.Evaluator.org$nlogo$workspace$Evaluator$$invokeCompiler(Evaluator.scala:175)\r\n\tat org.nlogo.workspace.Evaluator.evaluateCommands(Evaluator.scala:18)\r\n\tat org.nlogo.workspace.AbstractWorkspaceTraits$Evaluating$class.evaluateCommands(AbstractWorkspaceScala.scala:167)\r\n\tat org.nlogo.workspace.AbstractWorkspaceScala.evaluateCommands(AbstractWorkspaceScala.scala:19)\r\n\tat org.nlogo.headless.HeadlessWorkspace.command(HeadlessWorkspace.scala:556)\r\n\tat Py2NetLogo.NetLogoBridge.command(NetLogoBridge.java:37)\r\n\tat sun.reflect.GeneratedMethodAccessor1.invoke(Unknown Source)\r\n\tat sun.reflect.DelegatingMethodAccessorImpl.invoke(Unknown Source)\r\n\tat java.lang.reflect.Method.invoke(Unknown Source)\r\n\tat py4j.reflection.MethodInvoker.invoke(MethodInvoker.java:231)\r\n\tat py4j.reflection.ReflectionEngine.invoke(ReflectionEngine.java:381)\r\n\tat py4j.Gateway.invoke(Gateway.java:290)\r\n\tat py4j.commands.AbstractCommand.invokeMethod(AbstractCommand.java:133)\r\n\tat py4j.commands.CallCommand.execute(CallCommand.java:79)\r\n\tat py4j.GatewayConnection.run(GatewayConnection.java:209)\r\n\tat java.lang.Thread.run(Unknown Source)\r\n",
     "output_type": "error",
     "traceback": [
      "\u001b[1;31m---------------------------------------------------------------------------\u001b[0m",
      "\u001b[1;31mPy4JJavaError\u001b[0m                             Traceback (most recent call last)",
      "\u001b[1;32m<ipython-input-43-7389f656b3cc>\u001b[0m in \u001b[0;36m<module>\u001b[1;34m()\u001b[0m\n\u001b[0;32m     12\u001b[0m \u001b[0mbridge\u001b[0m\u001b[1;33m.\u001b[0m\u001b[0mcommand\u001b[0m\u001b[1;33m(\u001b[0m\u001b[1;34m\"random-seed 0\"\u001b[0m\u001b[1;33m)\u001b[0m\u001b[1;33m\u001b[0m\u001b[0m\n\u001b[0;32m     13\u001b[0m \u001b[0mbridge\u001b[0m\u001b[1;33m.\u001b[0m\u001b[0mcommand\u001b[0m\u001b[1;33m(\u001b[0m\u001b[1;34m\"setup\"\u001b[0m\u001b[1;33m)\u001b[0m\u001b[1;33m\u001b[0m\u001b[0m\n\u001b[1;32m---> 14\u001b[1;33m \u001b[0mbridge\u001b[0m\u001b[1;33m.\u001b[0m\u001b[0mcommand\u001b[0m\u001b[1;33m(\u001b[0m\u001b[1;34m\"repreat 10 [go]\"\u001b[0m\u001b[1;33m)\u001b[0m\u001b[1;33m\u001b[0m\u001b[0m\n\u001b[0m",
      "\u001b[1;32mC:\\Users\\Yanjie\\Anaconda\\lib\\site-packages\\py4j\\java_gateway.pyc\u001b[0m in \u001b[0;36m__call__\u001b[1;34m(self, *args)\u001b[0m\n\u001b[0;32m    833\u001b[0m         \u001b[0manswer\u001b[0m \u001b[1;33m=\u001b[0m \u001b[0mself\u001b[0m\u001b[1;33m.\u001b[0m\u001b[0mgateway_client\u001b[0m\u001b[1;33m.\u001b[0m\u001b[0msend_command\u001b[0m\u001b[1;33m(\u001b[0m\u001b[0mcommand\u001b[0m\u001b[1;33m)\u001b[0m\u001b[1;33m\u001b[0m\u001b[0m\n\u001b[0;32m    834\u001b[0m         return_value = get_return_value(\n\u001b[1;32m--> 835\u001b[1;33m             answer, self.gateway_client, self.target_id, self.name)\n\u001b[0m\u001b[0;32m    836\u001b[0m \u001b[1;33m\u001b[0m\u001b[0m\n\u001b[0;32m    837\u001b[0m         \u001b[1;32mfor\u001b[0m \u001b[0mtemp_arg\u001b[0m \u001b[1;32min\u001b[0m \u001b[0mtemp_args\u001b[0m\u001b[1;33m:\u001b[0m\u001b[1;33m\u001b[0m\u001b[0m\n",
      "\u001b[1;32mC:\\Users\\Yanjie\\Anaconda\\lib\\site-packages\\py4j\\protocol.pyc\u001b[0m in \u001b[0;36mget_return_value\u001b[1;34m(answer, gateway_client, target_id, name)\u001b[0m\n\u001b[0;32m    308\u001b[0m                 raise Py4JJavaError(\n\u001b[0;32m    309\u001b[0m                     \u001b[1;34m\"An error occurred while calling {0}{1}{2}.\\n\"\u001b[0m\u001b[1;33m.\u001b[0m\u001b[1;33m\u001b[0m\u001b[0m\n\u001b[1;32m--> 310\u001b[1;33m                     format(target_id, \".\", name), value)\n\u001b[0m\u001b[0;32m    311\u001b[0m             \u001b[1;32melse\u001b[0m\u001b[1;33m:\u001b[0m\u001b[1;33m\u001b[0m\u001b[0m\n\u001b[0;32m    312\u001b[0m                 raise Py4JError(\n",
      "\u001b[1;31mPy4JJavaError\u001b[0m: An error occurred while calling t.command.\n: Nothing named REPREAT has been defined at position 33 in \r\n\tat org.nlogo.compiler.CompilerExceptionThrowers$.exception(CompilerExceptionThrowers.scala:26)\r\n\tat org.nlogo.compiler.IdentifierParser.org$nlogo$compiler$IdentifierParser$$getAgentVariableReporter(IdentifierParser.scala:107)\r\n\tat org.nlogo.compiler.IdentifierParser$$anonfun$processToken2$2.apply(IdentifierParser.scala:75)\r\n\tat org.nlogo.compiler.IdentifierParser$$anonfun$processToken2$2.apply(IdentifierParser.scala:68)\r\n\tat scala.Option.getOrElse(Option.scala:108)\r\n\tat org.nlogo.compiler.IdentifierParser.processToken2(IdentifierParser.scala:68)\r\n\tat org.nlogo.compiler.IdentifierParser.processToken$1(IdentifierParser.scala:31)\r\n\tat org.nlogo.compiler.IdentifierParser$$anonfun$process$1.apply(IdentifierParser.scala:34)\r\n\tat org.nlogo.compiler.IdentifierParser$$anonfun$process$1.apply(IdentifierParser.scala:34)\r\n\tat scala.collection.Iterator$$anon$19.next(Iterator.scala:401)\r\n\tat scala.collection.Iterator$class.toStream(Iterator.scala:1181)\r\n\tat scala.collection.Iterator$$anon$19.toStream(Iterator.scala:399)\r\n\tat scala.collection.Iterator$$anonfun$toStream$1.apply(Iterator.scala:1181)\r\n\tat scala.collection.Iterator$$anonfun$toStream$1.apply(Iterator.scala:1181)\r\n\tat scala.collection.immutable.Stream$Cons.tail(Stream.scala:1060)\r\n\tat scala.collection.immutable.Stream$Cons.tail(Stream.scala:1052)\r\n\tat scala.collection.immutable.StreamIterator$$anonfun$next$1.apply(Stream.scala:952)\r\n\tat scala.collection.immutable.StreamIterator$$anonfun$next$1.apply(Stream.scala:952)\r\n\tat scala.collection.immutable.StreamIterator$LazyCell.v(Stream.scala:941)\r\n\tat scala.collection.immutable.StreamIterator.hasNext(Stream.scala:946)\r\n\tat scala.collection.Iterator$class.isEmpty(Iterator.scala:329)\r\n\tat scala.collection.immutable.StreamIterator.isEmpty(Stream.scala:933)\r\n\tat scala.collection.immutable.StreamIterator.next(Stream.scala:948)\r\n\tat scala.collection.Iterator$$anon$2.next(Iterator.scala:898)\r\n\tat scala.collection.Iterator$$anon$2.head(Iterator.scala:885)\r\n\tat org.nlogo.compiler.ExpressionParser.parse(ExpressionParser.scala:54)\r\n\tat org.nlogo.compiler.CompilerMain$$anonfun$compile$1.apply(CompilerMain.scala:34)\r\n\tat org.nlogo.compiler.CompilerMain$$anonfun$compile$1.apply(CompilerMain.scala:29)\r\n\tat scala.collection.Iterator$class.foreach(Iterator.scala:772)\r\n\tat scala.collection.JavaConversions$JIteratorWrapper.foreach(JavaConversions.scala:573)\r\n\tat scala.collection.IterableLike$class.foreach(IterableLike.scala:73)\r\n\tat scala.collection.JavaConversions$JCollectionWrapper.foreach(JavaConversions.scala:592)\r\n\tat org.nlogo.compiler.CompilerMain$.compile(CompilerMain.scala:29)\r\n\tat org.nlogo.compiler.Compiler$.compileMoreCode(Compiler.scala:34)\r\n\tat org.nlogo.workspace.Evaluator.org$nlogo$workspace$Evaluator$$invokeCompiler(Evaluator.scala:175)\r\n\tat org.nlogo.workspace.Evaluator.evaluateCommands(Evaluator.scala:18)\r\n\tat org.nlogo.workspace.AbstractWorkspaceTraits$Evaluating$class.evaluateCommands(AbstractWorkspaceScala.scala:167)\r\n\tat org.nlogo.workspace.AbstractWorkspaceScala.evaluateCommands(AbstractWorkspaceScala.scala:19)\r\n\tat org.nlogo.headless.HeadlessWorkspace.command(HeadlessWorkspace.scala:556)\r\n\tat Py2NetLogo.NetLogoBridge.command(NetLogoBridge.java:37)\r\n\tat sun.reflect.GeneratedMethodAccessor1.invoke(Unknown Source)\r\n\tat sun.reflect.DelegatingMethodAccessorImpl.invoke(Unknown Source)\r\n\tat java.lang.reflect.Method.invoke(Unknown Source)\r\n\tat py4j.reflection.MethodInvoker.invoke(MethodInvoker.java:231)\r\n\tat py4j.reflection.ReflectionEngine.invoke(ReflectionEngine.java:381)\r\n\tat py4j.Gateway.invoke(Gateway.java:290)\r\n\tat py4j.commands.AbstractCommand.invokeMethod(AbstractCommand.java:133)\r\n\tat py4j.commands.CallCommand.execute(CallCommand.java:79)\r\n\tat py4j.GatewayConnection.run(GatewayConnection.java:209)\r\n\tat java.lang.Thread.run(Unknown Source)\r\n"
     ]
    }
   ],
   "source": [
    "bridge.command(\"set grid-size 21\")\n",
    "bridge.command(\"set nb-people 1\")\n",
    "bridge.command(\"set Show_Names_Nodes? False\")\n",
    "bridge.command(\"set Show_Names_people? False\")\n",
    "bridge.command(\"set car-speed 1\")\n",
    "bridge.command(\"set mobiletowerdata? True\")\n",
    "bridge.command(\"set socialmedia_data? True\")\n",
    "bridge.command(\"set grids_covered_vector 5\")\n",
    "bridge.command(\"set avg_num_calls_perday 5\")\n",
    "bridge.command(\"set avg_call_duration_mins 2\")\n",
    "\n",
    "bridge.command(\"random-seed 0\")\n",
    "bridge.command(\"setup\")\n",
    "bridge.command(\"repeat 50 [go]\")"
   ]
  },
  {
   "cell_type": "code",
   "execution_count": null,
   "metadata": {
    "collapsed": true
   },
   "outputs": [],
   "source": []
  },
  {
   "cell_type": "markdown",
   "metadata": {
    "collapsed": false
   },
   "source": [
    "# Have the model report results"
   ]
  },
  {
   "cell_type": "code",
   "execution_count": null,
   "metadata": {
    "collapsed": true
   },
   "outputs": [],
   "source": []
  },
  {
   "cell_type": "code",
   "execution_count": null,
   "metadata": {
    "collapsed": true
   },
   "outputs": [],
   "source": []
  },
  {
   "cell_type": "code",
   "execution_count": null,
   "metadata": {
    "collapsed": true
   },
   "outputs": [],
   "source": []
  },
  {
   "cell_type": "code",
   "execution_count": null,
   "metadata": {
    "collapsed": true
   },
   "outputs": [],
   "source": []
  },
  {
   "cell_type": "code",
   "execution_count": null,
   "metadata": {
    "collapsed": true
   },
   "outputs": [],
   "source": []
  }
 ],
 "metadata": {
  "kernelspec": {
   "display_name": "Python 2",
   "language": "python",
   "name": "python2"
  },
  "language_info": {
   "codemirror_mode": {
    "name": "ipython",
    "version": 2
   },
   "file_extension": ".py",
   "mimetype": "text/x-python",
   "name": "python",
   "nbconvert_exporter": "python",
   "pygments_lexer": "ipython2",
   "version": "2.7.11"
  }
 },
 "nbformat": 4,
 "nbformat_minor": 0
}
